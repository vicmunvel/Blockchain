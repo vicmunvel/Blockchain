{
  "nbformat": 4,
  "nbformat_minor": 0,
  "metadata": {
    "colab": {
      "provenance": [],
      "authorship_tag": "ABX9TyNjb4FtTVvgWjUDkSj2c983",
      "include_colab_link": true
    },
    "kernelspec": {
      "name": "python3",
      "display_name": "Python 3"
    },
    "language_info": {
      "name": "python"
    }
  },
  "cells": [
    {
      "cell_type": "markdown",
      "metadata": {
        "id": "view-in-github",
        "colab_type": "text"
      },
      "source": [
        "<a href=\"https://colab.research.google.com/github/vicmunvel/Blockchain/blob/main/Criptomonedas2.ipynb\" target=\"_parent\"><img src=\"https://colab.research.google.com/assets/colab-badge.svg\" alt=\"Open In Colab\"/></a>"
      ]
    },
    {
      "cell_type": "markdown",
      "source": [
        "# Criptomoneda"
      ],
      "metadata": {
        "id": "35KFkTbtX3Tq"
      }
    },
    {
      "cell_type": "markdown",
      "source": [
        "## Librerias necesarias\n",
        "\n",
        "* **Datetime**: Nos va a proporcionar clases para manipular fechas y horas. Podremos operar con fechas.\n",
        "\n",
        "\n",
        "* **Hashlib**: Implementa una interfaz común de algoritmos de hash y resúmenes de msg seguros (SHA1, SHA224, SHA226, SHA384, SHA512...).\n",
        "\n",
        "\n",
        "* **Json**: Siglas de JavaScript Object Notation. JSON es un formato de datos ligero que se utiliza para el intercambio de datos entre varios lenguajes diferentes. Lo usaremos para mover datos.\n",
        "\n",
        "\n",
        "* **Flask**: Microframework web escrito en Python. Nos va a permitir realizar llamadas a nuestra Blockchain, a nuestro programa. Las llamadas serán HTTP.\n",
        "\n",
        "* **Requests**: Biblioteca HTTP para Python. Hace que las solicitudes sean mas sencillas y amigables.\n",
        "\n",
        "* **Uuid**: Módulo que proporciona objetos UUID inmutables y tiene funciones para generar UUIDs. Sirve para dar IDs únicos. No usamos Random ya que no es un metodo tan seguro como verdaderamente se creía.\n",
        "\n",
        "* **Utllib.parse**: Modulo que define una interfaz estandar para dividir las cadenas de localizadores unicos de recursos (URL) en componentes. Nos servirá para establecer nodos en la blockchain creo.\n",
        "\n"
      ],
      "metadata": {
        "id": "jvrrHIQYX54s"
      }
    },
    {
      "cell_type": "markdown",
      "source": [
        "## Instalaciones\n"
      ],
      "metadata": {
        "id": "PflLSwKSX88c"
      }
    },
    {
      "cell_type": "code",
      "execution_count": 1,
      "metadata": {
        "colab": {
          "base_uri": "https://localhost:8080/"
        },
        "id": "pZd0S-B5VvbT",
        "outputId": "bd24a65f-df77-4b98-ccb0-e33fca929788"
      },
      "outputs": [
        {
          "output_type": "stream",
          "name": "stdout",
          "text": [
            "Requirement already satisfied: flask in /usr/local/lib/python3.10/dist-packages (2.2.5)\n",
            "Requirement already satisfied: Werkzeug>=2.2.2 in /usr/local/lib/python3.10/dist-packages (from flask) (3.0.3)\n",
            "Requirement already satisfied: Jinja2>=3.0 in /usr/local/lib/python3.10/dist-packages (from flask) (3.1.4)\n",
            "Requirement already satisfied: itsdangerous>=2.0 in /usr/local/lib/python3.10/dist-packages (from flask) (2.2.0)\n",
            "Requirement already satisfied: click>=8.0 in /usr/local/lib/python3.10/dist-packages (from flask) (8.1.7)\n",
            "Requirement already satisfied: MarkupSafe>=2.0 in /usr/local/lib/python3.10/dist-packages (from Jinja2>=3.0->flask) (2.1.5)\n"
          ]
        }
      ],
      "source": [
        "!pip install flask"
      ]
    },
    {
      "cell_type": "code",
      "source": [
        "!pip install flask_ngrok"
      ],
      "metadata": {
        "colab": {
          "base_uri": "https://localhost:8080/"
        },
        "id": "-Pan1fLWV-9I",
        "outputId": "e6f661e8-81cb-42a7-9783-17da525b3528"
      },
      "execution_count": 3,
      "outputs": [
        {
          "output_type": "stream",
          "name": "stdout",
          "text": [
            "Collecting flask_ngrok\n",
            "  Downloading flask_ngrok-0.0.25-py3-none-any.whl (3.1 kB)\n",
            "Requirement already satisfied: Flask>=0.8 in /usr/local/lib/python3.10/dist-packages (from flask_ngrok) (2.2.5)\n",
            "Requirement already satisfied: requests in /usr/local/lib/python3.10/dist-packages (from flask_ngrok) (2.31.0)\n",
            "Requirement already satisfied: Werkzeug>=2.2.2 in /usr/local/lib/python3.10/dist-packages (from Flask>=0.8->flask_ngrok) (3.0.3)\n",
            "Requirement already satisfied: Jinja2>=3.0 in /usr/local/lib/python3.10/dist-packages (from Flask>=0.8->flask_ngrok) (3.1.4)\n",
            "Requirement already satisfied: itsdangerous>=2.0 in /usr/local/lib/python3.10/dist-packages (from Flask>=0.8->flask_ngrok) (2.2.0)\n",
            "Requirement already satisfied: click>=8.0 in /usr/local/lib/python3.10/dist-packages (from Flask>=0.8->flask_ngrok) (8.1.7)\n",
            "Requirement already satisfied: charset-normalizer<4,>=2 in /usr/local/lib/python3.10/dist-packages (from requests->flask_ngrok) (3.3.2)\n",
            "Requirement already satisfied: idna<4,>=2.5 in /usr/local/lib/python3.10/dist-packages (from requests->flask_ngrok) (3.7)\n",
            "Requirement already satisfied: urllib3<3,>=1.21.1 in /usr/local/lib/python3.10/dist-packages (from requests->flask_ngrok) (2.0.7)\n",
            "Requirement already satisfied: certifi>=2017.4.17 in /usr/local/lib/python3.10/dist-packages (from requests->flask_ngrok) (2024.2.2)\n",
            "Requirement already satisfied: MarkupSafe>=2.0 in /usr/local/lib/python3.10/dist-packages (from Jinja2>=3.0->Flask>=0.8->flask_ngrok) (2.1.5)\n",
            "Installing collected packages: flask_ngrok\n",
            "Successfully installed flask_ngrok-0.0.25\n"
          ]
        }
      ]
    },
    {
      "cell_type": "code",
      "source": [
        "!pip install requests"
      ],
      "metadata": {
        "colab": {
          "base_uri": "https://localhost:8080/"
        },
        "id": "-I-EZgxuWEeK",
        "outputId": "c054fbde-bd2a-4c27-e368-0b9d328bd903"
      },
      "execution_count": 4,
      "outputs": [
        {
          "output_type": "stream",
          "name": "stdout",
          "text": [
            "Requirement already satisfied: requests in /usr/local/lib/python3.10/dist-packages (2.31.0)\n",
            "Requirement already satisfied: charset-normalizer<4,>=2 in /usr/local/lib/python3.10/dist-packages (from requests) (3.3.2)\n",
            "Requirement already satisfied: idna<4,>=2.5 in /usr/local/lib/python3.10/dist-packages (from requests) (3.7)\n",
            "Requirement already satisfied: urllib3<3,>=1.21.1 in /usr/local/lib/python3.10/dist-packages (from requests) (2.0.7)\n",
            "Requirement already satisfied: certifi>=2017.4.17 in /usr/local/lib/python3.10/dist-packages (from requests) (2024.2.2)\n"
          ]
        }
      ]
    },
    {
      "cell_type": "markdown",
      "source": [
        "## Código"
      ],
      "metadata": {
        "id": "pzLSJ4ylYBdZ"
      }
    },
    {
      "cell_type": "markdown",
      "source": [
        "### Importaciones"
      ],
      "metadata": {
        "id": "FsK7QQVoX_1O"
      }
    },
    {
      "cell_type": "code",
      "source": [
        "# Importamos las librerías\n",
        "import datetime\n",
        "import hashlib\n",
        "import json\n",
        "import requests\n",
        "from uuid import uuid4\n",
        "from flask import Flask, jsonify, request\n",
        "from urllib.parse import urlparse\n",
        "from flask_ngrok import run_with_ngrok"
      ],
      "metadata": {
        "id": "xx3MQHK8Vz3I"
      },
      "execution_count": 5,
      "outputs": []
    },
    {
      "cell_type": "markdown",
      "source": [
        "Creamos la clase Blockchain que contiene todos los metodos esenciales:\n",
        "\n",
        "    .  Creación de un nuevo bloque\n",
        "    .  Obtencion del hash de un bloque\n",
        "    .  Protocolo de consenso Proof of Work (PoW)\n",
        "    .  Generación del hash de un bloque\n",
        "    .  Verificación de la validez de la Blockchain\n",
        "    . Añadir nueva transaccion en la cadena de bloques\n",
        "    . Añadir nuevo nodo a la cadena de bloques\n",
        "    . Reemplazar la Blockchain por la adecuada\n"
      ],
      "metadata": {
        "id": "bBSOcyZ0YEci"
      }
    },
    {
      "cell_type": "markdown",
      "source": [
        "### Creacion de la Blockchain"
      ],
      "metadata": {
        "id": "yhzH18hMYFYD"
      }
    }
  ]
}