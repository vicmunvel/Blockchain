{
  "nbformat": 4,
  "nbformat_minor": 0,
  "metadata": {
    "colab": {
      "provenance": [],
      "authorship_tag": "ABX9TyMg4KwObtxWkDF9ocvUy45V",
      "include_colab_link": true
    },
    "kernelspec": {
      "name": "python3",
      "display_name": "Python 3"
    },
    "language_info": {
      "name": "python"
    }
  },
  "cells": [
    {
      "cell_type": "markdown",
      "metadata": {
        "id": "view-in-github",
        "colab_type": "text"
      },
      "source": [
        "<a href=\"https://colab.research.google.com/github/vicmunvel/Blockchain/blob/main/Criptomoneda.ipynb\" target=\"_parent\"><img src=\"https://colab.research.google.com/assets/colab-badge.svg\" alt=\"Open In Colab\"/></a>"
      ]
    },
    {
      "cell_type": "markdown",
      "source": [
        "# Criptomoneda\n"
      ],
      "metadata": {
        "id": "1n8iUz2sOAtp"
      }
    },
    {
      "cell_type": "markdown",
      "source": [
        "## Librerias necesarias\n",
        "\n",
        "* **Datetime**: Nos va a proporcionar clases para manipular fechas y horas. Podremos operar con fechas.\n",
        "\n",
        "\n",
        "* **Hashlib**: Implementa una interfaz común de algoritmos de hash y resúmenes de msg seguros (SHA1, SHA224, SHA226, SHA384, SHA512...).\n",
        "\n",
        "\n",
        "* **Json**: Siglas de JavaScript Object Notation. JSON es un formato de datos ligero que se utiliza para el intercambio de datos entre varios lenguajes diferentes. Lo usaremos para mover datos.\n",
        "\n",
        "\n",
        "* **Flask**: Microframework web escrito en Python. Nos va a permitir realizar llamadas a nuestra Blockchain, a nuestro programa. Las llamadas serán HTTP.\n",
        "\n",
        "* **Requests**: Biblioteca HTTP para Python. Hace que las solicitudes sean mas sencillas y amigables.\n",
        "\n",
        "* **Uuid**: Módulo que proporciona objetos UUID inmutables y tiene funciones para generar UUIDs. Sirve para dar IDs únicos. No usamos Random ya que no es un metodo tan seguro como verdaderamente se creía.\n",
        "\n",
        "* **Utllib.parse**: Modulo que define una interfaz estandar para dividir las cadenas de localizadores unicos de recursos (URL) en componentes. Nos servirá para establecer nodos en la blockchain creo.\n",
        "\n"
      ],
      "metadata": {
        "id": "U6a4ER2lODGR"
      }
    },
    {
      "cell_type": "markdown",
      "source": [
        "## Instalaciones\n"
      ],
      "metadata": {
        "id": "ZwoW47aMOdsT"
      }
    },
    {
      "cell_type": "code",
      "source": [
        "!pip install flask"
      ],
      "metadata": {
        "colab": {
          "base_uri": "https://localhost:8080/"
        },
        "id": "blwAYz4xOf0V",
        "outputId": "2ba21a6f-4705-49a1-adbe-40c8f8949605"
      },
      "execution_count": null,
      "outputs": [
        {
          "output_type": "stream",
          "name": "stdout",
          "text": [
            "Requirement already satisfied: flask in /usr/local/lib/python3.10/dist-packages (1.1.2)\n",
            "Requirement already satisfied: Werkzeug>=0.15 in /usr/local/lib/python3.10/dist-packages (from flask) (2.2.2)\n",
            "Requirement already satisfied: Jinja2>=2.10.1 in /usr/local/lib/python3.10/dist-packages (from flask) (3.1.4)\n",
            "Requirement already satisfied: itsdangerous>=0.24 in /usr/local/lib/python3.10/dist-packages (from flask) (2.0.1)\n",
            "Requirement already satisfied: click>=5.1 in /usr/local/lib/python3.10/dist-packages (from flask) (8.1.7)\n",
            "Requirement already satisfied: MarkupSafe>=2.0 in /usr/local/lib/python3.10/dist-packages (from Jinja2>=2.10.1->flask) (2.1.5)\n"
          ]
        }
      ]
    },
    {
      "cell_type": "code",
      "source": [
        "!pip install requests"
      ],
      "metadata": {
        "colab": {
          "base_uri": "https://localhost:8080/"
        },
        "id": "Eff-BZu0QDxM",
        "outputId": "2c414154-03c7-4773-8809-e2cf5afb5574"
      },
      "execution_count": null,
      "outputs": [
        {
          "output_type": "stream",
          "name": "stdout",
          "text": [
            "Requirement already satisfied: requests in /usr/local/lib/python3.10/dist-packages (2.25.1)\n",
            "Requirement already satisfied: chardet<5,>=3.0.2 in /usr/local/lib/python3.10/dist-packages (from requests) (4.0.0)\n",
            "Requirement already satisfied: idna<3,>=2.5 in /usr/local/lib/python3.10/dist-packages (from requests) (2.10)\n",
            "Requirement already satisfied: urllib3<1.27,>=1.21.1 in /usr/local/lib/python3.10/dist-packages (from requests) (1.26.18)\n",
            "Requirement already satisfied: certifi>=2017.4.17 in /usr/local/lib/python3.10/dist-packages (from requests) (2024.2.2)\n"
          ]
        }
      ]
    },
    {
      "cell_type": "code",
      "source": [
        "!pip install flask-ngrok==0.0.25"
      ],
      "metadata": {
        "colab": {
          "base_uri": "https://localhost:8080/"
        },
        "id": "8MFzbLCGQIxZ",
        "outputId": "88b36060-c5c1-407d-a986-cd701f6a4cab"
      },
      "execution_count": null,
      "outputs": [
        {
          "output_type": "stream",
          "name": "stdout",
          "text": [
            "Requirement already satisfied: flask-ngrok==0.0.25 in /usr/local/lib/python3.10/dist-packages (0.0.25)\n",
            "Requirement already satisfied: Flask>=0.8 in /usr/local/lib/python3.10/dist-packages (from flask-ngrok==0.0.25) (1.1.2)\n",
            "Requirement already satisfied: requests in /usr/local/lib/python3.10/dist-packages (from flask-ngrok==0.0.25) (2.25.1)\n",
            "Requirement already satisfied: Werkzeug>=0.15 in /usr/local/lib/python3.10/dist-packages (from Flask>=0.8->flask-ngrok==0.0.25) (2.2.2)\n",
            "Requirement already satisfied: Jinja2>=2.10.1 in /usr/local/lib/python3.10/dist-packages (from Flask>=0.8->flask-ngrok==0.0.25) (3.1.4)\n",
            "Requirement already satisfied: itsdangerous>=0.24 in /usr/local/lib/python3.10/dist-packages (from Flask>=0.8->flask-ngrok==0.0.25) (2.0.1)\n",
            "Requirement already satisfied: click>=5.1 in /usr/local/lib/python3.10/dist-packages (from Flask>=0.8->flask-ngrok==0.0.25) (8.1.7)\n",
            "Requirement already satisfied: chardet<5,>=3.0.2 in /usr/local/lib/python3.10/dist-packages (from requests->flask-ngrok==0.0.25) (4.0.0)\n",
            "Requirement already satisfied: idna<3,>=2.5 in /usr/local/lib/python3.10/dist-packages (from requests->flask-ngrok==0.0.25) (2.10)\n",
            "Requirement already satisfied: urllib3<1.27,>=1.21.1 in /usr/local/lib/python3.10/dist-packages (from requests->flask-ngrok==0.0.25) (1.26.18)\n",
            "Requirement already satisfied: certifi>=2017.4.17 in /usr/local/lib/python3.10/dist-packages (from requests->flask-ngrok==0.0.25) (2024.2.2)\n",
            "Requirement already satisfied: MarkupSafe>=2.0 in /usr/local/lib/python3.10/dist-packages (from Jinja2>=2.10.1->Flask>=0.8->flask-ngrok==0.0.25) (2.1.5)\n"
          ]
        }
      ]
    },
    {
      "cell_type": "code",
      "source": [
        "!pip install Werkzeug==2.2.2"
      ],
      "metadata": {
        "colab": {
          "base_uri": "https://localhost:8080/"
        },
        "id": "3bJW7iMeRTNy",
        "outputId": "8bbdbced-92af-4bec-c030-76ca9463d1e1"
      },
      "execution_count": null,
      "outputs": [
        {
          "output_type": "stream",
          "name": "stdout",
          "text": [
            "Requirement already satisfied: Werkzeug==2.2.2 in /usr/local/lib/python3.10/dist-packages (2.2.2)\n",
            "Requirement already satisfied: MarkupSafe>=2.1.1 in /usr/local/lib/python3.10/dist-packages (from Werkzeug==2.2.2) (2.1.5)\n"
          ]
        }
      ]
    },
    {
      "cell_type": "code",
      "source": [
        "!pip install itsdangerous==2.0.1"
      ],
      "metadata": {
        "colab": {
          "base_uri": "https://localhost:8080/"
        },
        "id": "5lan8z1aRV2z",
        "outputId": "c1584ff4-3384-482d-ee62-d83eef430ac8"
      },
      "execution_count": null,
      "outputs": [
        {
          "output_type": "stream",
          "name": "stdout",
          "text": [
            "Requirement already satisfied: itsdangerous==2.0.1 in /usr/local/lib/python3.10/dist-packages (2.0.1)\n"
          ]
        }
      ]
    },
    {
      "cell_type": "code",
      "source": [
        "!pip install markupsafe"
      ],
      "metadata": {
        "colab": {
          "base_uri": "https://localhost:8080/"
        },
        "id": "KQM0y9WdTjDU",
        "outputId": "bc5ace39-8afa-4fac-e01b-2717ebc6b8c8"
      },
      "execution_count": null,
      "outputs": [
        {
          "output_type": "stream",
          "name": "stdout",
          "text": [
            "Requirement already satisfied: markupsafe in /usr/local/lib/python3.10/dist-packages (2.1.5)\n"
          ]
        }
      ]
    },
    {
      "cell_type": "code",
      "source": [],
      "metadata": {
        "id": "61VTN5MvT1kh"
      },
      "execution_count": null,
      "outputs": []
    },
    {
      "cell_type": "markdown",
      "source": [
        "## Código"
      ],
      "metadata": {
        "id": "8uuTfeewOiH4"
      }
    },
    {
      "cell_type": "markdown",
      "source": [
        "### Importaciones"
      ],
      "metadata": {
        "id": "XlraOuuYOo82"
      }
    },
    {
      "cell_type": "code",
      "source": [
        "# Importamos las librerías\n",
        "import datetime\n",
        "import hashlib\n",
        "import json\n",
        "import requests\n",
        "from uuid import uuid4\n",
        "from flask import Flask, jsonify, request\n",
        "from urllib.parse import urlparse\n",
        "from flask_ngrok import run_with_ngrok"
      ],
      "metadata": {
        "colab": {
          "base_uri": "https://localhost:8080/",
          "height": 544
        },
        "id": "xU762jzuOr33",
        "outputId": "8bc91c87-b1c9-415d-8066-df5b9cf5dd04"
      },
      "execution_count": null,
      "outputs": [
        {
          "output_type": "error",
          "ename": "ImportError",
          "evalue": "cannot import name 'escape' from 'jinja2' (/usr/local/lib/python3.10/dist-packages/jinja2/__init__.py)",
          "traceback": [
            "\u001b[0;31m---------------------------------------------------------------------------\u001b[0m",
            "\u001b[0;31mImportError\u001b[0m                               Traceback (most recent call last)",
            "\u001b[0;32m<ipython-input-25-f8900b8eaff3>\u001b[0m in \u001b[0;36m<cell line: 7>\u001b[0;34m()\u001b[0m\n\u001b[1;32m      5\u001b[0m \u001b[0;32mimport\u001b[0m \u001b[0mrequests\u001b[0m\u001b[0;34m\u001b[0m\u001b[0;34m\u001b[0m\u001b[0m\n\u001b[1;32m      6\u001b[0m \u001b[0;32mfrom\u001b[0m \u001b[0muuid\u001b[0m \u001b[0;32mimport\u001b[0m \u001b[0muuid4\u001b[0m\u001b[0;34m\u001b[0m\u001b[0;34m\u001b[0m\u001b[0m\n\u001b[0;32m----> 7\u001b[0;31m \u001b[0;32mfrom\u001b[0m \u001b[0mflask\u001b[0m \u001b[0;32mimport\u001b[0m \u001b[0mFlask\u001b[0m\u001b[0;34m,\u001b[0m \u001b[0mjsonify\u001b[0m\u001b[0;34m\u001b[0m\u001b[0;34m\u001b[0m\u001b[0m\n\u001b[0m\u001b[1;32m      8\u001b[0m \u001b[0;32mfrom\u001b[0m \u001b[0murllib\u001b[0m\u001b[0;34m.\u001b[0m\u001b[0mparse\u001b[0m \u001b[0;32mimport\u001b[0m \u001b[0murlparse\u001b[0m\u001b[0;34m\u001b[0m\u001b[0;34m\u001b[0m\u001b[0m\n\u001b[1;32m      9\u001b[0m \u001b[0;32mfrom\u001b[0m \u001b[0mflask_ngrok\u001b[0m \u001b[0;32mimport\u001b[0m \u001b[0mrun_with_ngrok\u001b[0m\u001b[0;34m\u001b[0m\u001b[0;34m\u001b[0m\u001b[0m\n",
            "\u001b[0;32m/usr/local/lib/python3.10/dist-packages/flask/__init__.py\u001b[0m in \u001b[0;36m<module>\u001b[0;34m\u001b[0m\n\u001b[1;32m     12\u001b[0m \u001b[0;31m# utilities we import from Werkzeug and Jinja2 that are unused\u001b[0m\u001b[0;34m\u001b[0m\u001b[0;34m\u001b[0m\u001b[0m\n\u001b[1;32m     13\u001b[0m \u001b[0;31m# in the module but are exported as public interface.\u001b[0m\u001b[0;34m\u001b[0m\u001b[0;34m\u001b[0m\u001b[0m\n\u001b[0;32m---> 14\u001b[0;31m \u001b[0;32mfrom\u001b[0m \u001b[0mjinja2\u001b[0m \u001b[0;32mimport\u001b[0m \u001b[0mescape\u001b[0m\u001b[0;34m\u001b[0m\u001b[0;34m\u001b[0m\u001b[0m\n\u001b[0m\u001b[1;32m     15\u001b[0m \u001b[0;32mfrom\u001b[0m \u001b[0mjinja2\u001b[0m \u001b[0;32mimport\u001b[0m \u001b[0mMarkup\u001b[0m\u001b[0;34m\u001b[0m\u001b[0;34m\u001b[0m\u001b[0m\n\u001b[1;32m     16\u001b[0m \u001b[0;32mfrom\u001b[0m \u001b[0mwerkzeug\u001b[0m\u001b[0;34m.\u001b[0m\u001b[0mexceptions\u001b[0m \u001b[0;32mimport\u001b[0m \u001b[0mabort\u001b[0m\u001b[0;34m\u001b[0m\u001b[0;34m\u001b[0m\u001b[0m\n",
            "\u001b[0;31mImportError\u001b[0m: cannot import name 'escape' from 'jinja2' (/usr/local/lib/python3.10/dist-packages/jinja2/__init__.py)",
            "",
            "\u001b[0;31m---------------------------------------------------------------------------\u001b[0;32m\nNOTE: If your import is failing due to a missing package, you can\nmanually install dependencies using either !pip or !apt.\n\nTo view examples of installing some common dependencies, click the\n\"Open Examples\" button below.\n\u001b[0;31m---------------------------------------------------------------------------\u001b[0m\n"
          ],
          "errorDetails": {
            "actions": [
              {
                "action": "open_url",
                "actionText": "Open Examples",
                "url": "/notebooks/snippets/importing_libraries.ipynb"
              }
            ]
          }
        }
      ]
    },
    {
      "cell_type": "markdown",
      "source": [
        "Creamos la clase Blockchain que contiene todos los metodos esenciales:\n",
        "\n",
        "    .  Creación de un nuevo bloque\n",
        "    .  Obtencion del hash de un bloque\n",
        "    .  Protocolo de consenso Proof of Work (PoW)\n",
        "    .  Generación del hash de un bloque\n",
        "    .  Verificación de la validez de la Blockchain\n",
        "    . Añadir nueva transaccion en la cadena de bloques\n",
        "    . Añadir nuevo nodo a la cadena de bloques\n",
        "    . Reemplazar la Blockchain por la adecuada\n"
      ],
      "metadata": {
        "id": "sMzsygvYSEwr"
      }
    },
    {
      "cell_type": "markdown",
      "source": [
        "### Creacion de la Blockchain"
      ],
      "metadata": {
        "id": "ih1ipMVnOrbb"
      }
    },
    {
      "cell_type": "code",
      "source": [],
      "metadata": {
        "id": "Y5oTWGzVOxq6"
      },
      "execution_count": null,
      "outputs": []
    },
    {
      "cell_type": "markdown",
      "source": [
        "## Aplicacion Web"
      ],
      "metadata": {
        "id": "kScFd5ZAOx7r"
      }
    },
    {
      "cell_type": "markdown",
      "source": [
        "## Ejecutamos la aplicación"
      ],
      "metadata": {
        "id": "hy4CrUbQO0sK"
      }
    }
  ]
}