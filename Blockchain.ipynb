{
  "nbformat": 4,
  "nbformat_minor": 0,
  "metadata": {
    "colab": {
      "provenance": [],
      "toc_visible": true,
      "authorship_tag": "ABX9TyOVlRaAm3PoODIu9U6v6/Va",
      "include_colab_link": true
    },
    "kernelspec": {
      "name": "python3",
      "display_name": "Python 3"
    },
    "language_info": {
      "name": "python"
    }
  },
  "cells": [
    {
      "cell_type": "markdown",
      "metadata": {
        "id": "view-in-github",
        "colab_type": "text"
      },
      "source": [
        "<a href=\"https://colab.research.google.com/github/vicmunvel/Blockchain/blob/main/Blockchain.ipynb\" target=\"_parent\"><img src=\"https://colab.research.google.com/assets/colab-badge.svg\" alt=\"Open In Colab\"/></a>"
      ]
    },
    {
      "cell_type": "markdown",
      "source": [
        "# Blockchain"
      ],
      "metadata": {
        "id": "lIL7fjSG9jU8"
      }
    },
    {
      "cell_type": "markdown",
      "source": [
        "## Librerias necesarias\n",
        "\n",
        "* **Datetime**: Nos va a proporcionar clases para manipular fechas y horas. Podremos operar con fechas.\n",
        "\n",
        "\n",
        "* **Hashlib**: Implementa una interfaz común de algoritmos de hash y resúmenes de msg seguros (SHA1, SHA224, SHA226, SHA384, SHA512...).\n",
        "\n",
        "\n",
        "* **Json**: Siglas de JavaScript Object Notation. JSON es un formato de datos ligero que se utiliza para el intercambio de datos entre varios lenguajes diferentes. Lo usaremos para mover datos.\n",
        "\n",
        "\n",
        "* **Flask**: Microframework web escrito en Python. Nos va a permitir realizar llamadas a nuestra Blockchain, a nuestro programa. Las llamadas serán HTTP.\n",
        "\n",
        "* **Flask-ngrok**: Para usar flask en un Colab lo necesitamos. Nos va a permitir realizar demostraciones ya que hace que las apps esten disponibles en internet.\n",
        "\n"
      ],
      "metadata": {
        "id": "1EbecuKI9mfz"
      }
    },
    {
      "cell_type": "markdown",
      "source": [
        "## Instalaciones"
      ],
      "metadata": {
        "id": "O0ZNc27uAumF"
      }
    },
    {
      "cell_type": "code",
      "source": [
        "!pip install flask"
      ],
      "metadata": {
        "id": "jaUEd-0CAxiQ"
      },
      "execution_count": null,
      "outputs": []
    },
    {
      "cell_type": "code",
      "source": [
        "!pip install flask-ngrok==0.0.25"
      ],
      "metadata": {
        "id": "g7xEWKNyA1-S"
      },
      "execution_count": null,
      "outputs": []
    },
    {
      "cell_type": "code",
      "source": [
        "!pip install Werkzeug==2.2.2"
      ],
      "metadata": {
        "id": "OjI2BN88DSAc"
      },
      "execution_count": null,
      "outputs": []
    },
    {
      "cell_type": "code",
      "source": [
        "!pip install itsdangerous==2.0.1"
      ],
      "metadata": {
        "id": "tzgAtg_TDmYz"
      },
      "execution_count": null,
      "outputs": []
    },
    {
      "cell_type": "markdown",
      "source": [
        "## Código\n"
      ],
      "metadata": {
        "id": "F1w-rcn0BNST"
      }
    },
    {
      "cell_type": "markdown",
      "source": [
        "### Importaciones\n"
      ],
      "metadata": {
        "id": "83U-XavQBSQO"
      }
    },
    {
      "cell_type": "code",
      "source": [
        "import datetime\n",
        "import hashlib\n",
        "import json\n",
        "from flask import Flask, jsonify  # Para expresar los msg de la Blockchain en JSON\n",
        "from flask_ngrok import run_with_ngrok"
      ],
      "metadata": {
        "id": "fUA_kIkGBUJg"
      },
      "execution_count": 1,
      "outputs": []
    },
    {
      "cell_type": "markdown",
      "source": [
        "Creamos la clase Blockchain que contiene todos los metodos esenciales:\n",
        "\n",
        "    .  Creación de un nuevo bloque\n",
        "    .  Obtencion del hash de un bloque\n",
        "    .  Protocolo de consenso Proof of Work (PoW)\n",
        "    .  Generación del hash de un bloque\n",
        "    .  Verificación de la validez de la Blockchain\n"
      ],
      "metadata": {
        "id": "g7e9HyHzD-3r"
      }
    },
    {
      "cell_type": "markdown",
      "source": [
        "### Creación de la Blockchain\n",
        "\n"
      ],
      "metadata": {
        "id": "AGC4iBfuFOmd"
      }
    },
    {
      "cell_type": "code",
      "source": [
        "# Creación de la Blockchain\n",
        "class Blockchain:\n",
        "\n",
        "  def __init__(self):\n",
        ""
      ],
      "metadata": {
        "id": "X01d1j5DFSZX"
      },
      "execution_count": null,
      "outputs": []
    }
  ]
}